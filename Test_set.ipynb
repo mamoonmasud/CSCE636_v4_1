{
 "cells": [
  {
   "cell_type": "markdown",
   "metadata": {
    "colab": {
     "base_uri": "https://localhost:8080/",
     "height": 428
    },
    "colab_type": "code",
    "executionInfo": {
     "elapsed": 5397,
     "status": "ok",
     "timestamp": 1588444455518,
     "user": {
      "displayName": "Mamoon Masud",
      "photoUrl": "",
      "userId": "07579647884138523141"
     },
     "user_tz": 300
    },
    "id": "xqqrLdHLqqB7",
    "outputId": "54b3fe41-789d-42c9-a558-6c35b98cbac4"
   },
   "source": [
    "# CSCE 636: Deep Learning\n",
    "# UIN: 828002068\n",
    "# Name: Mamoon Masud\n",
    "# Submission - 8 \n",
    "# Architecture - Transfer Learning ( Inception-v1 Inflated 3D ConvNet )\n",
    "# Activity Recognition Project - Testing Evaluation Code"
   ]
  },
  {
   "cell_type": "code",
   "execution_count": 1,
   "metadata": {},
   "outputs": [
    {
     "name": "stdout",
     "output_type": "stream",
     "text": [
      "Requirement already satisfied: keras-video-generators in c:\\programdata\\anaconda3\\lib\\site-packages (1.0.13)\n",
      "Requirement already satisfied: numpy in c:\\programdata\\anaconda3\\lib\\site-packages (from keras-video-generators) (1.16.5)\n",
      "Requirement already satisfied: matplotlib in c:\\programdata\\anaconda3\\lib\\site-packages (from keras-video-generators) (3.1.1)\n",
      "Requirement already satisfied: keras>=2 in c:\\programdata\\anaconda3\\lib\\site-packages (from keras-video-generators) (2.3.1)\n",
      "Requirement already satisfied: opencv-python in c:\\programdata\\anaconda3\\lib\\site-packages (from keras-video-generators) (4.1.1.26)\n",
      "Requirement already satisfied: cycler>=0.10 in c:\\programdata\\anaconda3\\lib\\site-packages (from matplotlib->keras-video-generators) (0.10.0)\n",
      "Requirement already satisfied: kiwisolver>=1.0.1 in c:\\programdata\\anaconda3\\lib\\site-packages (from matplotlib->keras-video-generators) (1.1.0)\n",
      "Requirement already satisfied: pyparsing!=2.0.4,!=2.1.2,!=2.1.6,>=2.0.1 in c:\\programdata\\anaconda3\\lib\\site-packages (from matplotlib->keras-video-generators) (2.4.2)\n",
      "Requirement already satisfied: python-dateutil>=2.1 in c:\\programdata\\anaconda3\\lib\\site-packages (from matplotlib->keras-video-generators) (2.8.0)\n",
      "Requirement already satisfied: pyyaml in c:\\programdata\\anaconda3\\lib\\site-packages (from keras>=2->keras-video-generators) (5.1.2)\n",
      "Requirement already satisfied: keras-applications>=1.0.6 in c:\\programdata\\anaconda3\\lib\\site-packages (from keras>=2->keras-video-generators) (1.0.8)\n",
      "Requirement already satisfied: h5py in c:\\programdata\\anaconda3\\lib\\site-packages (from keras>=2->keras-video-generators) (2.9.0)\n",
      "Requirement already satisfied: keras-preprocessing>=1.0.5 in c:\\programdata\\anaconda3\\lib\\site-packages (from keras>=2->keras-video-generators) (1.1.0)\n",
      "Requirement already satisfied: six>=1.9.0 in c:\\programdata\\anaconda3\\lib\\site-packages (from keras>=2->keras-video-generators) (1.12.0)\n",
      "Requirement already satisfied: scipy>=0.14 in c:\\programdata\\anaconda3\\lib\\site-packages (from keras>=2->keras-video-generators) (1.4.1)\n",
      "Requirement already satisfied: setuptools in c:\\programdata\\anaconda3\\lib\\site-packages (from kiwisolver>=1.0.1->matplotlib->keras-video-generators) (41.4.0)\n"
     ]
    },
    {
     "name": "stderr",
     "output_type": "stream",
     "text": [
      "ERROR: Error checking for conflicts.\n",
      "Traceback (most recent call last):\n",
      "  File \"C:\\ProgramData\\Anaconda3\\lib\\site-packages\\pip\\_vendor\\pkg_resources\\__init__.py\", line 3012, in _dep_map\n",
      "    return self.__dep_map\n",
      "  File \"C:\\ProgramData\\Anaconda3\\lib\\site-packages\\pip\\_vendor\\pkg_resources\\__init__.py\", line 2806, in __getattr__\n",
      "    raise AttributeError(attr)\n",
      "AttributeError: _DistInfoDistribution__dep_map\n",
      "\n",
      "During handling of the above exception, another exception occurred:\n",
      "\n",
      "Traceback (most recent call last):\n",
      "  File \"C:\\ProgramData\\Anaconda3\\lib\\site-packages\\pip\\_vendor\\pkg_resources\\__init__.py\", line 3003, in _parsed_pkg_info\n",
      "    return self._pkg_info\n",
      "  File \"C:\\ProgramData\\Anaconda3\\lib\\site-packages\\pip\\_vendor\\pkg_resources\\__init__.py\", line 2806, in __getattr__\n",
      "    raise AttributeError(attr)\n",
      "AttributeError: _pkg_info\n",
      "\n",
      "During handling of the above exception, another exception occurred:\n",
      "\n",
      "Traceback (most recent call last):\n",
      "  File \"C:\\ProgramData\\Anaconda3\\lib\\site-packages\\pip\\_internal\\commands\\install.py\", line 517, in _warn_about_conflicts\n",
      "    package_set, _dep_info = check_install_conflicts(to_install)\n",
      "  File \"C:\\ProgramData\\Anaconda3\\lib\\site-packages\\pip\\_internal\\operations\\check.py\", line 110, in check_install_conflicts\n",
      "    package_set, _ = create_package_set_from_installed()\n",
      "  File \"C:\\ProgramData\\Anaconda3\\lib\\site-packages\\pip\\_internal\\operations\\check.py\", line 49, in create_package_set_from_installed\n",
      "    package_set[name] = PackageDetails(dist.version, dist.requires())\n",
      "  File \"C:\\ProgramData\\Anaconda3\\lib\\site-packages\\pip\\_vendor\\pkg_resources\\__init__.py\", line 2727, in requires\n",
      "    dm = self._dep_map\n",
      "  File \"C:\\ProgramData\\Anaconda3\\lib\\site-packages\\pip\\_vendor\\pkg_resources\\__init__.py\", line 3014, in _dep_map\n",
      "    self.__dep_map = self._compute_dependencies()\n",
      "  File \"C:\\ProgramData\\Anaconda3\\lib\\site-packages\\pip\\_vendor\\pkg_resources\\__init__.py\", line 3023, in _compute_dependencies\n",
      "    for req in self._parsed_pkg_info.get_all('Requires-Dist') or []:\n",
      "  File \"C:\\ProgramData\\Anaconda3\\lib\\site-packages\\pip\\_vendor\\pkg_resources\\__init__.py\", line 3005, in _parsed_pkg_info\n",
      "    metadata = self.get_metadata(self.PKG_INFO)\n",
      "  File \"C:\\ProgramData\\Anaconda3\\lib\\site-packages\\pip\\_vendor\\pkg_resources\\__init__.py\", line 1419, in get_metadata\n",
      "    value = self._get(self._fn(self.egg_info, name))\n",
      "  File \"C:\\ProgramData\\Anaconda3\\lib\\site-packages\\pip\\_vendor\\pkg_resources\\__init__.py\", line 1607, in _get\n",
      "    with open(path, 'rb') as stream:\n",
      "FileNotFoundError: [Errno 2] No such file or directory: 'c:\\\\programdata\\\\anaconda3\\\\lib\\\\site-packages\\\\tensorflow-2.1.0.dist-info\\\\METADATA'\n"
     ]
    }
   ],
   "source": [
    "# Run if you haven't installed Keras Video Generators\n",
    "!pip install keras-video-generators\n"
   ]
  },
  {
   "cell_type": "code",
   "execution_count": null,
   "metadata": {
    "colab": {},
    "colab_type": "code",
    "id": "n9rcjLAzqiMO"
   },
   "outputs": [],
   "source": [
    "import os\n",
    "import glob\n",
    "import keras\n",
    "from keras_video import VideoFrameGenerator\n",
    "import keras_video.utils\n",
    "import tensorflow\n",
    "from tensorflow.keras import backend\n",
    "from tensorflow.keras.layers import TimeDistributed\n",
    "from tensorflow.keras.layers import (Conv2D, MaxPooling3D, Conv3D,MaxPooling2D)\n",
    "from tensorflow.keras.layers import Dense, Flatten, Dropout, ZeroPadding3D\n",
    "from tensorflow.keras.layers import LSTM\n",
    "from tensorflow.keras.models import Sequential, load_model\n",
    "from tensorflow.keras.optimizers import Adam, RMSprop\n",
    "from collections import deque\n",
    "from tensorflow.keras.regularizers import l2\n",
    "from tensorflow.keras.layers import BatchNormalization\n",
    "from keras.utils.vis_utils import plot_model\n",
    "from tensorflow.keras.layers import Dense, Dropout, Activation, Flatten\n",
    "import os.path\n",
    "import time\n"
   ]
  },
  {
   "cell_type": "markdown",
   "metadata": {
    "colab_type": "text",
    "id": "GWeTkLVbqxl7"
   },
   "source": [
    "# Loading the Model From the saved JSON File"
   ]
  },
  {
   "cell_type": "code",
   "execution_count": 12,
   "metadata": {
    "colab": {
     "base_uri": "https://localhost:8080/",
     "height": 425
    },
    "colab_type": "code",
    "executionInfo": {
     "elapsed": 4840,
     "status": "ok",
     "timestamp": 1588445234759,
     "user": {
      "displayName": "Mamoon Masud",
      "photoUrl": "",
      "userId": "07579647884138523141"
     },
     "user_tz": 300
    },
    "id": "LJqxIPM6qw_t",
    "outputId": "065a68a1-9d3b-418e-d207-9d90f3ac7521"
   },
   "outputs": [
    {
     "name": "stdout",
     "output_type": "stream",
     "text": [
      "Model: \"sequential_1\"\n",
      "_________________________________________________________________\n",
      "Layer (type)                 Output Shape              Param #   \n",
      "=================================================================\n",
      "i3d_inception (Model)        (None, 1, 1, 1, 1024)     12294544  \n",
      "_________________________________________________________________\n",
      "dropout_1 (Dropout)          (None, 1, 1, 1, 1024)     0         \n",
      "_________________________________________________________________\n",
      "Conv3d_6a_1x1 (Conv3D)       (None, 1, 1, 1, 200)      205000    \n",
      "_________________________________________________________________\n",
      "reshape_1 (Reshape)          (None, 1, 200)            0         \n",
      "_________________________________________________________________\n",
      "lstm_1 (LSTM)                (None, 64)                67840     \n",
      "_________________________________________________________________\n",
      "dense_1 (Dense)              (None, 128)               8320      \n",
      "_________________________________________________________________\n",
      "dense_2 (Dense)              (None, 64)                8256      \n",
      "_________________________________________________________________\n",
      "dense_3 (Dense)              (None, 2)                 130       \n",
      "=================================================================\n",
      "Total params: 12,584,090\n",
      "Trainable params: 12,569,530\n",
      "Non-trainable params: 14,560\n",
      "_________________________________________________________________\n"
     ]
    }
   ],
   "source": [
    "# Set the path to the saved location of the JSON file. \n",
    "base_path = 'Enter Path where model and weight files are located'\n",
    "model_path = os.path.join(base_path,'sub_8_model.json' )\n",
    "with open(model_path, 'r') as json_file:\n",
    "    json_savedModel= json_file.read()\n",
    "#load the model architecture \n",
    "model_j = tensorflow.keras.models.model_from_json(json_savedModel)\n",
    "model_j.summary()"
   ]
  },
  {
   "cell_type": "code",
   "execution_count": null,
   "metadata": {
    "colab": {},
    "colab_type": "code",
    "id": "qtaXCA-xrQBw"
   },
   "outputs": [],
   "source": [
    "# Load the saved model weight\n",
    "weight_path = os.path.join(base_path, 'sub_8_weights.hdf5')\n",
    "model_j.load_weights(weight_path)"
   ]
  },
  {
   "cell_type": "code",
   "execution_count": null,
   "metadata": {
    "colab": {},
    "colab_type": "code",
    "id": "MO-vjgtqrZNG"
   },
   "outputs": [],
   "source": []
  },
  {
   "cell_type": "markdown",
   "metadata": {
    "colab_type": "text",
    "id": "-hy65efVtCzo"
   },
   "source": [
    "# Defining the video generator for the test set"
   ]
  },
  {
   "cell_type": "code",
   "execution_count": 27,
   "metadata": {
    "colab": {
     "base_uri": "https://localhost:8080/",
     "height": 68
    },
    "colab_type": "code",
    "executionInfo": {
     "elapsed": 18510,
     "status": "ok",
     "timestamp": 1588445474453,
     "user": {
      "displayName": "Mamoon Masud",
      "photoUrl": "",
      "userId": "07579647884138523141"
     },
     "user_tz": 300
    },
    "id": "aIbXxSPttGX-",
    "outputId": "95b7ee5c-a131-45ea-bb37-fa7ace232cea"
   },
   "outputs": [
    {
     "name": "stdout",
     "output_type": "stream",
     "text": [
      "class Door, validation count: 0, train count: 22\n",
      "class Not_Door, validation count: 0, train count: 15\n",
      "Total data: 2 classes for 37 files for train\n"
     ]
    }
   ],
   "source": [
    "# use sub directories names as classes\n",
    "classes = ['Door', 'Not_Door']\n",
    "classes.sort()\n",
    "# some global params\n",
    "SIZE = (224, 224)\n",
    "CHANNELS = 3\n",
    "NBFRAME = 15\n",
    "BS = 5\n",
    "# pattern to get videos and classes\n",
    "glob_pattern='/content/drive/My Drive/DL Proj/Dataset/Test/{classname}/*.mp4'\n",
    "# for data augmentation\n",
    "data_aug = keras.preprocessing.image.ImageDataGenerator(\n",
    "    zoom_range=.1,\n",
    "    horizontal_flip=True,\n",
    "    rotation_range=8,\n",
    "    width_shift_range=.2,\n",
    "    height_shift_range=.2)\n",
    "# Create video frame generator\n",
    "test = VideoFrameGenerator(\n",
    "    classes=classes, \n",
    "    glob_pattern=glob_pattern,\n",
    "    nb_frames=NBFRAME,\n",
    "    split_val=0.00001,  # 33% of the videos will be used as validation set. \n",
    "    shuffle=True,\n",
    "    batch_size=BS,\n",
    "    target_shape=SIZE,\n",
    "    nb_channel=CHANNELS,\n",
    "    transformation=data_aug,\n",
    "    use_frame_cache=False)"
   ]
  },
  {
   "cell_type": "code",
   "execution_count": null,
   "metadata": {
    "colab": {},
    "colab_type": "code",
    "id": "rdXDao0BtS4K"
   },
   "outputs": [],
   "source": [
    "optimizer = Adam(lr=1e-5, decay=1e-6)\n",
    "model_j.compile(optimizer=optimizer , \n",
    "              loss='categorical_crossentropy',\n",
    "              metrics=['accuracy'])"
   ]
  },
  {
   "cell_type": "code",
   "execution_count": 37,
   "metadata": {
    "colab": {
     "base_uri": "https://localhost:8080/",
     "height": 34
    },
    "colab_type": "code",
    "executionInfo": {
     "elapsed": 11346,
     "status": "ok",
     "timestamp": 1588446118440,
     "user": {
      "displayName": "Mamoon Masud",
      "photoUrl": "",
      "userId": "07579647884138523141"
     },
     "user_tz": 300
    },
    "id": "70L3U0YstWc2",
    "outputId": "ec592c5c-9b47-4502-c34c-9e9e28ba8d5c"
   },
   "outputs": [
    {
     "name": "stdout",
     "output_type": "stream",
     "text": [
      "10/10 [==============================] - 7s 696ms/step - loss: 0.1962 - accuracy: 0.9000\n"
     ]
    }
   ],
   "source": [
    "histos = model_j.evaluate_generator(test, steps = 10, verbose = 1 )"
   ]
  },
  {
   "cell_type": "code",
   "execution_count": 44,
   "metadata": {
    "colab": {
     "base_uri": "https://localhost:8080/",
     "height": 51
    },
    "colab_type": "code",
    "executionInfo": {
     "elapsed": 16491,
     "status": "ok",
     "timestamp": 1588447119701,
     "user": {
      "displayName": "Mamoon Masud",
      "photoUrl": "",
      "userId": "07579647884138523141"
     },
     "user_tz": 300
    },
    "id": "ydMGoZMZuDCt",
    "outputId": "0e73b25a-4196-4c02-9682-e14ad985b05b"
   },
   "outputs": [
    {
     "name": "stdout",
     "output_type": "stream",
     "text": [
      "20/20 [==============================] - 14s 721ms/step - loss: 0.2821 - accuracy: 0.9000\n"
     ]
    },
    {
     "data": {
      "text/plain": [
       "[0.2821061909198761, 0.8999999761581421]"
      ]
     },
     "execution_count": 44,
     "metadata": {
      "tags": []
     },
     "output_type": "execute_result"
    }
   ],
   "source": [
    "model_j.evaluate(test, steps = 20,verbose = 1 )"
   ]
  },
  {
   "cell_type": "code",
   "execution_count": null,
   "metadata": {
    "colab": {},
    "colab_type": "code",
    "id": "tGcncqiY00hz"
   },
   "outputs": [],
   "source": []
  }
 ],
 "metadata": {
  "accelerator": "GPU",
  "colab": {
   "authorship_tag": "ABX9TyNeOAU8QmQ1w12XPR+zZzOl",
   "collapsed_sections": [],
   "mount_file_id": "1SeM7GLpPVJu7yc46YlSaZ8Z_ti9dDAV4",
   "name": "Test_set.ipynb",
   "provenance": []
  },
  "kernelspec": {
   "display_name": "Python 3",
   "language": "python",
   "name": "python3"
  },
  "language_info": {
   "codemirror_mode": {
    "name": "ipython",
    "version": 3
   },
   "file_extension": ".py",
   "mimetype": "text/x-python",
   "name": "python",
   "nbconvert_exporter": "python",
   "pygments_lexer": "ipython3",
   "version": "3.7.4"
  }
 },
 "nbformat": 4,
 "nbformat_minor": 4
}
